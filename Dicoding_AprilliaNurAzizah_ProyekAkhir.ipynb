{
  "nbformat": 4,
  "nbformat_minor": 0,
  "metadata": {
    "colab": {
      "name": "Dicoding_AprilliaNurAzizah_ProyekAkhir.ipynb",
      "provenance": []
    },
    "kernelspec": {
      "name": "python3",
      "display_name": "Python 3"
    },
    "language_info": {
      "name": "python"
    },
    "accelerator": "GPU"
  },
  "cells": [
    {
      "cell_type": "markdown",
      "metadata": {
        "id": "9Gx43-EewSys"
      },
      "source": [
        "###Nama      : Aprillia Nur Azizah \n",
        "###Unsername : aprillianuraz\n",
        "###Email     : aprilliaazizah3@gmail.com"
      ]
    },
    {
      "cell_type": "code",
      "metadata": {
        "id": "ewhQ5HH_vrcZ"
      },
      "source": [
        "import tensorflow as tf\n",
        "import zipfile, os\n",
        "from tensorflow.keras.preprocessing.image import ImageDataGenerator\n",
        "from sklearn.model_selection import train_test_split\n",
        "import numpy as np\n",
        "from google.colab import files\n",
        "from keras.preprocessing import image\n",
        "import matplotlib.pyplot as plt\n",
        "import matplotlib.image as mpimg\n",
        "from keras.models import Sequential\n",
        "%matplotlib inline\n",
        "import tensorflow as tf\n",
        "from tensorflow import keras\n",
        "import matplotlib.pyplot as plt"
      ],
      "execution_count": 1,
      "outputs": []
    },
    {
      "cell_type": "code",
      "metadata": {
        "colab": {
          "base_uri": "https://localhost:8080/"
        },
        "id": "h2d3EIM2xDbu",
        "outputId": "21ac0cf7-2872-40cb-e17d-1c692365baa8"
      },
      "source": [
        "from google.colab import drive\n",
        "drive.mount('/content/drive')"
      ],
      "execution_count": 2,
      "outputs": [
        {
          "output_type": "stream",
          "name": "stdout",
          "text": [
            "Drive already mounted at /content/drive; to attempt to forcibly remount, call drive.mount(\"/content/drive\", force_remount=True).\n"
          ]
        }
      ]
    },
    {
      "cell_type": "code",
      "metadata": {
        "id": "6zmUvmN3xEby"
      },
      "source": [
        "zip_ref = zipfile.ZipFile(\"/content/drive/MyDrive/Dicoding/Dataset/animals.zip\", 'r')\n",
        "zip_ref.extractall(\"/tmp\")\n",
        "zip_ref.close()"
      ],
      "execution_count": 3,
      "outputs": []
    },
    {
      "cell_type": "code",
      "metadata": {
        "id": "ubXuxMSVzn1S"
      },
      "source": [
        "base_dir = '/tmp/animals'"
      ],
      "execution_count": 4,
      "outputs": []
    },
    {
      "cell_type": "code",
      "metadata": {
        "colab": {
          "base_uri": "https://localhost:8080/"
        },
        "id": "AUb-_s8lzrrx",
        "outputId": "6d5686cc-5175-4651-efb7-877c8bdb7d7f"
      },
      "source": [
        "#print total images in cats, dogs, and panda\n",
        "print('total cats :', len(os.listdir('/tmp/animals/cats')))\n",
        "print('total dogs:', len(os.listdir('/tmp/animals/dogs')))\n",
        "print('total panda :', len(os.listdir('/tmp/animals/panda')))"
      ],
      "execution_count": 5,
      "outputs": [
        {
          "output_type": "stream",
          "name": "stdout",
          "text": [
            "total cats : 1000\n",
            "total dogs: 1000\n",
            "total panda : 1000\n"
          ]
        }
      ]
    },
    {
      "cell_type": "code",
      "metadata": {
        "id": "_uyiIqsfz-GT"
      },
      "source": [
        "#image augmentation\n",
        "train_datagen = ImageDataGenerator(\n",
        "    rotation_range=20,       \n",
        "    rescale=1./255,\n",
        "    shear_range=0.15,\n",
        "    fill_mode=\"nearest\",\n",
        "    horizontal_flip=True,\n",
        "    validation_split=0.2) #20% validation data"
      ],
      "execution_count": 6,
      "outputs": []
    },
    {
      "cell_type": "code",
      "metadata": {
        "id": "VCGrtHBx1VrX"
      },
      "source": [
        "batch_size=32"
      ],
      "execution_count": 7,
      "outputs": []
    },
    {
      "cell_type": "code",
      "metadata": {
        "colab": {
          "base_uri": "https://localhost:8080/"
        },
        "id": "Y29ZKfR90L8l",
        "outputId": "80e71336-413f-458a-929f-b40e559fec87"
      },
      "source": [
        "#data generator\n",
        "train_generator = train_datagen.flow_from_directory(\n",
        "    base_dir,\n",
        "    target_size=(150, 150),\n",
        "    batch_size=batch_size,\n",
        "    class_mode='categorical',\n",
        "    subset='training') \n",
        "validation_generator = train_datagen.flow_from_directory(\n",
        "    base_dir, \n",
        "    target_size=(150, 150),\n",
        "    batch_size=batch_size,\n",
        "    class_mode='categorical',\n",
        "    subset='validation')"
      ],
      "execution_count": 8,
      "outputs": [
        {
          "output_type": "stream",
          "name": "stdout",
          "text": [
            "Found 2400 images belonging to 3 classes.\n",
            "Found 600 images belonging to 3 classes.\n"
          ]
        }
      ]
    },
    {
      "cell_type": "code",
      "metadata": {
        "id": "wZXPDAjW1olq"
      },
      "source": [
        "steps_per_epoch = len(train_generator)/batch_size*10\n",
        "validation_steps = len(validation_generator)/batch_size*10"
      ],
      "execution_count": 9,
      "outputs": []
    },
    {
      "cell_type": "code",
      "metadata": {
        "id": "HYRHyXZN0fXC"
      },
      "source": [
        "class myCallback(tf.keras.callbacks.Callback):\n",
        "  def on_epoch_end(self, epoch, logs={}):\n",
        "    if(logs.get('val_accuracy')>= 0.86 and logs.get('accuracy')> 0.86):#stop the training if val_accuary >= 0.86\n",
        "      print(\"\\n Accuracy dan Validation Accuracy sudah mencapai > 86% \") \n",
        "      self.model.stop_training = True\n",
        "\n",
        "callbacks = myCallback()"
      ],
      "execution_count": 10,
      "outputs": []
    },
    {
      "cell_type": "code",
      "metadata": {
        "id": "IKYkMiA77GbD"
      },
      "source": [
        "from tensorflow.keras.applications.vgg16 import VGG16\n",
        "\n",
        "base_model = VGG16(input_shape = (150, 150, 3), \n",
        "                  include_top = False, \n",
        "                  weights = 'imagenet')"
      ],
      "execution_count": 11,
      "outputs": []
    },
    {
      "cell_type": "code",
      "metadata": {
        "id": "e-NJyLWP7IoO"
      },
      "source": [
        "for layer in base_model.layers:\n",
        "    layer.trainable = False"
      ],
      "execution_count": 12,
      "outputs": []
    },
    {
      "cell_type": "code",
      "metadata": {
        "colab": {
          "base_uri": "https://localhost:8080/"
        },
        "id": "uFi0Bov_7KQY",
        "outputId": "bc8519cf-a9c1-4941-b7f9-324d2aa43785"
      },
      "source": [
        "x = keras.layers.Flatten()(base_model.output)\n",
        "x = keras.layers.Dense(512, activation='relu')(x)\n",
        "x = keras.layers.Dropout(0.5)(x)\n",
        "x = keras.layers.Dense(3, activation='softmax')(x)\n",
        "\n",
        "\n",
        "model = tf.keras.models.Model(base_model.input, x)\n",
        "model = Sequential(layers=model.layers)\n",
        "model.compile(optimizer =  tf.optimizers.Adam(), loss = 'categorical_crossentropy',metrics = ['accuracy'])\n",
        "model.summary()"
      ],
      "execution_count": 13,
      "outputs": [
        {
          "output_type": "stream",
          "name": "stdout",
          "text": [
            "Model: \"sequential\"\n",
            "_________________________________________________________________\n",
            "Layer (type)                 Output Shape              Param #   \n",
            "=================================================================\n",
            "block1_conv1 (Conv2D)        (None, 150, 150, 64)      1792      \n",
            "_________________________________________________________________\n",
            "block1_conv2 (Conv2D)        (None, 150, 150, 64)      36928     \n",
            "_________________________________________________________________\n",
            "block1_pool (MaxPooling2D)   (None, 75, 75, 64)        0         \n",
            "_________________________________________________________________\n",
            "block2_conv1 (Conv2D)        (None, 75, 75, 128)       73856     \n",
            "_________________________________________________________________\n",
            "block2_conv2 (Conv2D)        (None, 75, 75, 128)       147584    \n",
            "_________________________________________________________________\n",
            "block2_pool (MaxPooling2D)   (None, 37, 37, 128)       0         \n",
            "_________________________________________________________________\n",
            "block3_conv1 (Conv2D)        (None, 37, 37, 256)       295168    \n",
            "_________________________________________________________________\n",
            "block3_conv2 (Conv2D)        (None, 37, 37, 256)       590080    \n",
            "_________________________________________________________________\n",
            "block3_conv3 (Conv2D)        (None, 37, 37, 256)       590080    \n",
            "_________________________________________________________________\n",
            "block3_pool (MaxPooling2D)   (None, 18, 18, 256)       0         \n",
            "_________________________________________________________________\n",
            "block4_conv1 (Conv2D)        (None, 18, 18, 512)       1180160   \n",
            "_________________________________________________________________\n",
            "block4_conv2 (Conv2D)        (None, 18, 18, 512)       2359808   \n",
            "_________________________________________________________________\n",
            "block4_conv3 (Conv2D)        (None, 18, 18, 512)       2359808   \n",
            "_________________________________________________________________\n",
            "block4_pool (MaxPooling2D)   (None, 9, 9, 512)         0         \n",
            "_________________________________________________________________\n",
            "block5_conv1 (Conv2D)        (None, 9, 9, 512)         2359808   \n",
            "_________________________________________________________________\n",
            "block5_conv2 (Conv2D)        (None, 9, 9, 512)         2359808   \n",
            "_________________________________________________________________\n",
            "block5_conv3 (Conv2D)        (None, 9, 9, 512)         2359808   \n",
            "_________________________________________________________________\n",
            "block5_pool (MaxPooling2D)   (None, 4, 4, 512)         0         \n",
            "_________________________________________________________________\n",
            "flatten (Flatten)            (None, 8192)              0         \n",
            "_________________________________________________________________\n",
            "dense (Dense)                (None, 512)               4194816   \n",
            "_________________________________________________________________\n",
            "dropout (Dropout)            (None, 512)               0         \n",
            "_________________________________________________________________\n",
            "dense_1 (Dense)              (None, 3)                 1539      \n",
            "=================================================================\n",
            "Total params: 18,911,043\n",
            "Trainable params: 4,196,355\n",
            "Non-trainable params: 14,714,688\n",
            "_________________________________________________________________\n"
          ]
        }
      ]
    },
    {
      "cell_type": "code",
      "metadata": {
        "colab": {
          "base_uri": "https://localhost:8080/"
        },
        "id": "06pZp3UM7Lvp",
        "outputId": "63fc37f5-0bac-48ed-8654-9bc064cb4089"
      },
      "source": [
        "history = model.fit(\n",
        "        train_generator,\n",
        "        steps_per_epoch = steps_per_epoch,\n",
        "        epochs = 30,\n",
        "        validation_data=validation_generator,   \n",
        "        callbacks=[callbacks])"
      ],
      "execution_count": 14,
      "outputs": [
        {
          "output_type": "stream",
          "name": "stdout",
          "text": [
            "Epoch 1/30\n",
            "23/23 [==============================] - 25s 780ms/step - loss: 1.6957 - accuracy: 0.5326 - val_loss: 0.7061 - val_accuracy: 0.6867\n",
            "Epoch 2/30\n",
            "23/23 [==============================] - 14s 602ms/step - loss: 0.6544 - accuracy: 0.7292 - val_loss: 0.4470 - val_accuracy: 0.8200\n",
            "Epoch 3/30\n",
            "23/23 [==============================] - 14s 609ms/step - loss: 0.4371 - accuracy: 0.8242 - val_loss: 0.3898 - val_accuracy: 0.8450\n",
            "Epoch 4/30\n",
            "23/23 [==============================] - 14s 611ms/step - loss: 0.4009 - accuracy: 0.8333 - val_loss: 0.4010 - val_accuracy: 0.8400\n",
            "Epoch 5/30\n",
            "23/23 [==============================] - 14s 613ms/step - loss: 0.3770 - accuracy: 0.8464 - val_loss: 0.3696 - val_accuracy: 0.8633\n",
            "Epoch 6/30\n",
            "23/23 [==============================] - 14s 608ms/step - loss: 0.3309 - accuracy: 0.8802 - val_loss: 0.3489 - val_accuracy: 0.8683\n",
            "\n",
            " Accuracy dan Validation Accuracy sudah mencapai > 86% \n"
          ]
        }
      ]
    },
    {
      "cell_type": "code",
      "metadata": {
        "colab": {
          "base_uri": "https://localhost:8080/",
          "height": 295
        },
        "id": "O07j6-YP7wqg",
        "outputId": "561700a6-449b-48e8-ef8a-4bc25114481f"
      },
      "source": [
        "#Accuracy Plot\n",
        "accry = history.history['accuracy']\n",
        "validation_accry = history.history['val_accuracy']\n",
        "plt.plot(accry, 'g', label='Training accuracy')\n",
        "plt.plot(validation_accry , 'b', label='validation accuracy')\n",
        "plt.title('Training and Validation Accuracy')\n",
        "plt.ylabel('Accuracy')\n",
        "plt.xlabel('Epoch')\n",
        "plt.legend()\n",
        "plt.show()"
      ],
      "execution_count": 18,
      "outputs": [
        {
          "output_type": "display_data",
          "data": {
            "image/png": "[encoded data removed]",
            "text/plain": [
              "<Figure size 432x288 with 1 Axes>"
            ]
          },
          "metadata": {
            "needs_background": "light"
          }
        }
      ]
    },
    {
      "cell_type": "code",
      "metadata": {
        "colab": {
          "base_uri": "https://localhost:8080/",
          "height": 295
        },
        "id": "YFQtoKGLD3B1",
        "outputId": "4565223f-91f9-4bd9-dae9-795b2dcded55"
      },
      "source": [
        "#Loss Plot\n",
        "loss = history.history['loss']\n",
        "validation_loss = history.history['val_loss']\n",
        "plt.plot(loss, 'g', label='Training loss')\n",
        "plt.plot(validation_loss , 'b', label='validation loss')\n",
        "plt.title('Training and Validation  Loss')\n",
        "plt.ylabel('loss')\n",
        "plt.xlabel('Epoch')\n",
        "plt.legend()\n",
        "plt.show()"
      ],
      "execution_count": 19,
      "outputs": [
        {
          "output_type": "display_data",
          "data": {
            "image/png": "[encoded data removed]",
            "text/plain": [
              "<Figure size 432x288 with 1 Axes>"
            ]
          },
          "metadata": {
            "needs_background": "light"
          }
        }
      ]
    },
    {
      "cell_type": "code",
      "metadata": {
        "colab": {
          "base_uri": "https://localhost:8080/"
        },
        "id": "sRM1wSo6HgSI",
        "outputId": "f49287dc-a5f6-4f12-8434-551c9408e8f5"
      },
      "source": [
        "#Convert TFLite\n",
        "converter = tf.lite.TFLiteConverter.from_keras_model(model)\n",
        "tflite_model = converter.convert()\n",
        "\n",
        "with tf.io.gfile.GFile('model.tflite', 'wb') as f:\n",
        "  f.write(tflite_model)"
      ],
      "execution_count": 17,
      "outputs": [
        {
          "output_type": "stream",
          "name": "stdout",
          "text": [
            "INFO:tensorflow:Assets written to: /tmp/tmpsx4sbq6b/assets\n"
          ]
        }
      ]
    }
  ]
}